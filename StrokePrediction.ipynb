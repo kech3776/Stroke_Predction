{
 "cells": [
  {
   "cell_type": "markdown",
   "metadata": {
    "tags": []
   },
   "source": [
    "# Supervised Learning Final Project"
   ]
  },
  {
   "cell_type": "markdown",
   "metadata": {
    "tags": []
   },
   "source": [
    "## Introduction"
   ]
  },
  {
   "cell_type": "markdown",
   "metadata": {},
   "source": [
    "In this final project, we are going to explore a dataset on stroke patients. We have a large dataset of approximately 5000 rows where a patient is determined to have a stroke or not. That patient information also comes with several attributes that we will put into machine learning models to help predict the chances a patient has a stroke depending on the attributes given.\n",
    "In this project, we will:\n",
    "1. Import the data\n",
    "2. Clean the data\n",
    "3. Do exploratory data analysis\n",
    "4. Create a KNN model and Random Forest model\n",
    "5. Summarize results and analysis"
   ]
  },
  {
   "cell_type": "markdown",
   "metadata": {
    "tags": []
   },
   "source": [
    "### Data\n",
    "The data used for this project is a dataset off of Kaggle. The title is called \"Stroke Prediction Dataset\" uploaded by Fedesoriano. The link to the data is given here:\n",
    "https://www.kaggle.com/datasets/fedesoriano/stroke-prediction-dataset"
   ]
  },
  {
   "cell_type": "markdown",
   "metadata": {},
   "source": [
    "First off, we will import the given dataset to the Jupyter Notebook."
   ]
  },
  {
   "cell_type": "code",
   "execution_count": 138,
   "metadata": {},
   "outputs": [],
   "source": [
    "import pandas as pd\n",
    "import numpy as np\n",
    "import matplotlib.pyplot as plt"
   ]
  },
  {
   "cell_type": "code",
   "execution_count": 139,
   "metadata": {},
   "outputs": [],
   "source": [
    "df = pd.read_csv(\"https://raw.githubusercontent.com/kech3776/Stroke_Predction/main/healthcare-dataset-stroke-data.csv\")"
   ]
  },
  {
   "cell_type": "markdown",
   "metadata": {},
   "source": [
    "Now we take a look at the first few rows of the dataset and the shape of the dataset."
   ]
  },
  {
   "cell_type": "code",
   "execution_count": 140,
   "metadata": {},
   "outputs": [
    {
     "data": {
      "text/html": [
       "<div>\n",
       "<style scoped>\n",
       "    .dataframe tbody tr th:only-of-type {\n",
       "        vertical-align: middle;\n",
       "    }\n",
       "\n",
       "    .dataframe tbody tr th {\n",
       "        vertical-align: top;\n",
       "    }\n",
       "\n",
       "    .dataframe thead th {\n",
       "        text-align: right;\n",
       "    }\n",
       "</style>\n",
       "<table border=\"1\" class=\"dataframe\">\n",
       "  <thead>\n",
       "    <tr style=\"text-align: right;\">\n",
       "      <th></th>\n",
       "      <th>id</th>\n",
       "      <th>gender</th>\n",
       "      <th>age</th>\n",
       "      <th>hypertension</th>\n",
       "      <th>heart_disease</th>\n",
       "      <th>ever_married</th>\n",
       "      <th>work_type</th>\n",
       "      <th>Residence_type</th>\n",
       "      <th>avg_glucose_level</th>\n",
       "      <th>bmi</th>\n",
       "      <th>smoking_status</th>\n",
       "      <th>stroke</th>\n",
       "    </tr>\n",
       "  </thead>\n",
       "  <tbody>\n",
       "    <tr>\n",
       "      <th>0</th>\n",
       "      <td>9046</td>\n",
       "      <td>Male</td>\n",
       "      <td>67.0</td>\n",
       "      <td>0</td>\n",
       "      <td>1</td>\n",
       "      <td>Yes</td>\n",
       "      <td>Private</td>\n",
       "      <td>Urban</td>\n",
       "      <td>228.69</td>\n",
       "      <td>36.6</td>\n",
       "      <td>formerly smoked</td>\n",
       "      <td>1</td>\n",
       "    </tr>\n",
       "    <tr>\n",
       "      <th>1</th>\n",
       "      <td>51676</td>\n",
       "      <td>Female</td>\n",
       "      <td>61.0</td>\n",
       "      <td>0</td>\n",
       "      <td>0</td>\n",
       "      <td>Yes</td>\n",
       "      <td>Self-employed</td>\n",
       "      <td>Rural</td>\n",
       "      <td>202.21</td>\n",
       "      <td>NaN</td>\n",
       "      <td>never smoked</td>\n",
       "      <td>1</td>\n",
       "    </tr>\n",
       "    <tr>\n",
       "      <th>2</th>\n",
       "      <td>31112</td>\n",
       "      <td>Male</td>\n",
       "      <td>80.0</td>\n",
       "      <td>0</td>\n",
       "      <td>1</td>\n",
       "      <td>Yes</td>\n",
       "      <td>Private</td>\n",
       "      <td>Rural</td>\n",
       "      <td>105.92</td>\n",
       "      <td>32.5</td>\n",
       "      <td>never smoked</td>\n",
       "      <td>1</td>\n",
       "    </tr>\n",
       "    <tr>\n",
       "      <th>3</th>\n",
       "      <td>60182</td>\n",
       "      <td>Female</td>\n",
       "      <td>49.0</td>\n",
       "      <td>0</td>\n",
       "      <td>0</td>\n",
       "      <td>Yes</td>\n",
       "      <td>Private</td>\n",
       "      <td>Urban</td>\n",
       "      <td>171.23</td>\n",
       "      <td>34.4</td>\n",
       "      <td>smokes</td>\n",
       "      <td>1</td>\n",
       "    </tr>\n",
       "    <tr>\n",
       "      <th>4</th>\n",
       "      <td>1665</td>\n",
       "      <td>Female</td>\n",
       "      <td>79.0</td>\n",
       "      <td>1</td>\n",
       "      <td>0</td>\n",
       "      <td>Yes</td>\n",
       "      <td>Self-employed</td>\n",
       "      <td>Rural</td>\n",
       "      <td>174.12</td>\n",
       "      <td>24.0</td>\n",
       "      <td>never smoked</td>\n",
       "      <td>1</td>\n",
       "    </tr>\n",
       "  </tbody>\n",
       "</table>\n",
       "</div>"
      ],
      "text/plain": [
       "      id  gender   age  hypertension  heart_disease ever_married  \\\n",
       "0   9046    Male  67.0             0              1          Yes   \n",
       "1  51676  Female  61.0             0              0          Yes   \n",
       "2  31112    Male  80.0             0              1          Yes   \n",
       "3  60182  Female  49.0             0              0          Yes   \n",
       "4   1665  Female  79.0             1              0          Yes   \n",
       "\n",
       "       work_type Residence_type  avg_glucose_level   bmi   smoking_status  \\\n",
       "0        Private          Urban             228.69  36.6  formerly smoked   \n",
       "1  Self-employed          Rural             202.21   NaN     never smoked   \n",
       "2        Private          Rural             105.92  32.5     never smoked   \n",
       "3        Private          Urban             171.23  34.4           smokes   \n",
       "4  Self-employed          Rural             174.12  24.0     never smoked   \n",
       "\n",
       "   stroke  \n",
       "0       1  \n",
       "1       1  \n",
       "2       1  \n",
       "3       1  \n",
       "4       1  "
      ]
     },
     "execution_count": 140,
     "metadata": {},
     "output_type": "execute_result"
    }
   ],
   "source": [
    "df.head()"
   ]
  },
  {
   "cell_type": "code",
   "execution_count": 141,
   "metadata": {},
   "outputs": [
    {
     "data": {
      "text/plain": [
       "(5110, 12)"
      ]
     },
     "execution_count": 141,
     "metadata": {},
     "output_type": "execute_result"
    }
   ],
   "source": [
    "df.shape"
   ]
  },
  {
   "cell_type": "markdown",
   "metadata": {},
   "source": [
    "As seen above, there are 12 attributes given in the dataset with 5110 entries.\n",
    "The 12 attributes are as shown:\n",
    "1. id: unique identifier\n",
    "2. gender: \"Male\", \"Female\" or \"Other\"\n",
    "3. age: age of the patient\n",
    "4. hypertension: 0 if the patient doesn't have hypertension, 1 if the patient has hypertension\n",
    "5. heart_disease: 0 if the patient doesn't have any heart diseases, 1 if the patient has a heart disease\n",
    "6. ever_married: \"No\" or \"Yes\"\n",
    "7. work_type: \"children\", \"Govt_jov\", \"Never_worked\", \"Private\" or \"Self-employed\"\n",
    "8. Residence_type: \"Rural\" or \"Urban\"\n",
    "9. avg_glucose_level: average glucose level in blood\n",
    "10. bmi: body mass index\n",
    "11. smoking_status: \"formerly smoked\", \"never smoked\", \"smokes\" or \"Unknown\"\n",
    "12. stroke: 1 if the patient had a stroke or 0 if not"
   ]
  },
  {
   "cell_type": "markdown",
   "metadata": {},
   "source": [
    "## Data Cleaning\n",
    "After an initial look at the dataset, we will clean the data by removing irrelavent columns, converting classifications to something useable, and imputing any rows that have null values of any kind."
   ]
  },
  {
   "cell_type": "markdown",
   "metadata": {},
   "source": [
    "First off, the unique identifier is not a relavant column. We will drop that column from our data. We will also drop the work_type column."
   ]
  },
  {
   "cell_type": "code",
   "execution_count": 142,
   "metadata": {},
   "outputs": [],
   "source": [
    "df = df.drop('id',axis = 1)"
   ]
  },
  {
   "cell_type": "code",
   "execution_count": 143,
   "metadata": {},
   "outputs": [],
   "source": [
    "df = df.drop('work_type', axis = 1)"
   ]
  },
  {
   "cell_type": "markdown",
   "metadata": {},
   "source": [
    "While looking at the 'smoking_status', of the 5000 or so rows, there looks to be around 1500 rows where the smoking status is unknown. Since there are so many unknown entries, we will drop this column too."
   ]
  },
  {
   "cell_type": "code",
   "execution_count": 144,
   "metadata": {},
   "outputs": [
    {
     "data": {
      "image/png": "[encoded data removed]",
      "text/plain": [
       "<Figure size 432x288 with 1 Axes>"
      ]
     },
     "metadata": {
      "needs_background": "light"
     },
     "output_type": "display_data"
    }
   ],
   "source": [
    "df['smoking_status'].value_counts().plot(kind = 'bar')\n",
    "df = df.drop('smoking_status',axis = 1)"
   ]
  },
  {
   "cell_type": "markdown",
   "metadata": {},
   "source": [
    "Next, we replace the \"No\" or \"Yes\" in ever_married to 0 for no and 1 for yes. We do the same from Residence_type by replacing \"Rural\" with 0 and \"Urban\" with 1. This will give us the ability to use these columns in our model."
   ]
  },
  {
   "cell_type": "code",
   "execution_count": 145,
   "metadata": {},
   "outputs": [],
   "source": [
    "df['ever_married'] = df['ever_married'].replace({'No': 0, 'Yes': 1})\n",
    "df['Residence_type'] = df['Residence_type'].replace({'Rural': 0, 'Urban':1})"
   ]
  },
  {
   "cell_type": "markdown",
   "metadata": {},
   "source": [
    "Now we are going to deal the the gender column. First, we remove the 'Other' in gender since there is only one row with that label."
   ]
  },
  {
   "cell_type": "code",
   "execution_count": 146,
   "metadata": {},
   "outputs": [
    {
     "data": {
      "text/plain": [
       "(5109, 9)"
      ]
     },
     "execution_count": 146,
     "metadata": {},
     "output_type": "execute_result"
    }
   ],
   "source": [
    "df=df[df.gender != 'Other']\n",
    "df.shape"
   ]
  },
  {
   "cell_type": "markdown",
   "metadata": {},
   "source": [
    "Next, we create two more columns. The male column will be 1 if male and 0 if female. The female column will be 1 if female and 0 if male. "
   ]
  },
  {
   "cell_type": "code",
   "execution_count": 147,
   "metadata": {},
   "outputs": [
    {
     "data": {
      "text/html": [
       "<div>\n",
       "<style scoped>\n",
       "    .dataframe tbody tr th:only-of-type {\n",
       "        vertical-align: middle;\n",
       "    }\n",
       "\n",
       "    .dataframe tbody tr th {\n",
       "        vertical-align: top;\n",
       "    }\n",
       "\n",
       "    .dataframe thead th {\n",
       "        text-align: right;\n",
       "    }\n",
       "</style>\n",
       "<table border=\"1\" class=\"dataframe\">\n",
       "  <thead>\n",
       "    <tr style=\"text-align: right;\">\n",
       "      <th></th>\n",
       "      <th>Female</th>\n",
       "      <th>Male</th>\n",
       "    </tr>\n",
       "  </thead>\n",
       "  <tbody>\n",
       "    <tr>\n",
       "      <th>0</th>\n",
       "      <td>0</td>\n",
       "      <td>1</td>\n",
       "    </tr>\n",
       "    <tr>\n",
       "      <th>1</th>\n",
       "      <td>1</td>\n",
       "      <td>0</td>\n",
       "    </tr>\n",
       "    <tr>\n",
       "      <th>2</th>\n",
       "      <td>0</td>\n",
       "      <td>1</td>\n",
       "    </tr>\n",
       "    <tr>\n",
       "      <th>3</th>\n",
       "      <td>1</td>\n",
       "      <td>0</td>\n",
       "    </tr>\n",
       "    <tr>\n",
       "      <th>4</th>\n",
       "      <td>1</td>\n",
       "      <td>0</td>\n",
       "    </tr>\n",
       "  </tbody>\n",
       "</table>\n",
       "</div>"
      ],
      "text/plain": [
       "   Female  Male\n",
       "0       0     1\n",
       "1       1     0\n",
       "2       0     1\n",
       "3       1     0\n",
       "4       1     0"
      ]
     },
     "execution_count": 147,
     "metadata": {},
     "output_type": "execute_result"
    }
   ],
   "source": [
    "female_male = pd.get_dummies(df['gender'])\n",
    "female_male.head()"
   ]
  },
  {
   "cell_type": "markdown",
   "metadata": {},
   "source": [
    "Then we attach the Female and Male column back to the main dataframe. We also drop the gender column since that is not needed anymore."
   ]
  },
  {
   "cell_type": "code",
   "execution_count": 148,
   "metadata": {},
   "outputs": [
    {
     "data": {
      "text/html": [
       "<div>\n",
       "<style scoped>\n",
       "    .dataframe tbody tr th:only-of-type {\n",
       "        vertical-align: middle;\n",
       "    }\n",
       "\n",
       "    .dataframe tbody tr th {\n",
       "        vertical-align: top;\n",
       "    }\n",
       "\n",
       "    .dataframe thead th {\n",
       "        text-align: right;\n",
       "    }\n",
       "</style>\n",
       "<table border=\"1\" class=\"dataframe\">\n",
       "  <thead>\n",
       "    <tr style=\"text-align: right;\">\n",
       "      <th></th>\n",
       "      <th>age</th>\n",
       "      <th>hypertension</th>\n",
       "      <th>heart_disease</th>\n",
       "      <th>ever_married</th>\n",
       "      <th>Residence_type</th>\n",
       "      <th>avg_glucose_level</th>\n",
       "      <th>bmi</th>\n",
       "      <th>stroke</th>\n",
       "      <th>Female</th>\n",
       "      <th>Male</th>\n",
       "    </tr>\n",
       "  </thead>\n",
       "  <tbody>\n",
       "    <tr>\n",
       "      <th>0</th>\n",
       "      <td>67.0</td>\n",
       "      <td>0</td>\n",
       "      <td>1</td>\n",
       "      <td>1</td>\n",
       "      <td>1</td>\n",
       "      <td>228.69</td>\n",
       "      <td>36.6</td>\n",
       "      <td>1</td>\n",
       "      <td>0</td>\n",
       "      <td>1</td>\n",
       "    </tr>\n",
       "    <tr>\n",
       "      <th>1</th>\n",
       "      <td>61.0</td>\n",
       "      <td>0</td>\n",
       "      <td>0</td>\n",
       "      <td>1</td>\n",
       "      <td>0</td>\n",
       "      <td>202.21</td>\n",
       "      <td>NaN</td>\n",
       "      <td>1</td>\n",
       "      <td>1</td>\n",
       "      <td>0</td>\n",
       "    </tr>\n",
       "    <tr>\n",
       "      <th>2</th>\n",
       "      <td>80.0</td>\n",
       "      <td>0</td>\n",
       "      <td>1</td>\n",
       "      <td>1</td>\n",
       "      <td>0</td>\n",
       "      <td>105.92</td>\n",
       "      <td>32.5</td>\n",
       "      <td>1</td>\n",
       "      <td>0</td>\n",
       "      <td>1</td>\n",
       "    </tr>\n",
       "    <tr>\n",
       "      <th>3</th>\n",
       "      <td>49.0</td>\n",
       "      <td>0</td>\n",
       "      <td>0</td>\n",
       "      <td>1</td>\n",
       "      <td>1</td>\n",
       "      <td>171.23</td>\n",
       "      <td>34.4</td>\n",
       "      <td>1</td>\n",
       "      <td>1</td>\n",
       "      <td>0</td>\n",
       "    </tr>\n",
       "    <tr>\n",
       "      <th>4</th>\n",
       "      <td>79.0</td>\n",
       "      <td>1</td>\n",
       "      <td>0</td>\n",
       "      <td>1</td>\n",
       "      <td>0</td>\n",
       "      <td>174.12</td>\n",
       "      <td>24.0</td>\n",
       "      <td>1</td>\n",
       "      <td>1</td>\n",
       "      <td>0</td>\n",
       "    </tr>\n",
       "  </tbody>\n",
       "</table>\n",
       "</div>"
      ],
      "text/plain": [
       "    age  hypertension  heart_disease  ever_married  Residence_type  \\\n",
       "0  67.0             0              1             1               1   \n",
       "1  61.0             0              0             1               0   \n",
       "2  80.0             0              1             1               0   \n",
       "3  49.0             0              0             1               1   \n",
       "4  79.0             1              0             1               0   \n",
       "\n",
       "   avg_glucose_level   bmi  stroke  Female  Male  \n",
       "0             228.69  36.6       1       0     1  \n",
       "1             202.21   NaN       1       1     0  \n",
       "2             105.92  32.5       1       0     1  \n",
       "3             171.23  34.4       1       1     0  \n",
       "4             174.12  24.0       1       1     0  "
      ]
     },
     "execution_count": 148,
     "metadata": {},
     "output_type": "execute_result"
    }
   ],
   "source": [
    "df[female_male.columns] = female_male\n",
    "df = df.drop('gender', axis = 1)\n",
    "df.head()"
   ]
  },
  {
   "cell_type": "markdown",
   "metadata": {},
   "source": [
    "The next step in inspecting the data is to look for any null values."
   ]
  },
  {
   "cell_type": "code",
   "execution_count": 149,
   "metadata": {},
   "outputs": [
    {
     "name": "stdout",
     "output_type": "stream",
     "text": [
      "age 0 0\n",
      "hypertension 0 0\n",
      "heart_disease 0 0\n",
      "ever_married 0 0\n",
      "Residence_type 0 0\n",
      "avg_glucose_level 0 0\n",
      "bmi 201 0\n",
      "stroke 0 0\n",
      "Female 0 0\n",
      "Male 0 0\n"
     ]
    }
   ],
   "source": [
    "# prints number of null values detected by .isnull() and string none\n",
    "a = [np.nan, None, [], {}, 'NaN', 'Null','NULL','None','NA','?','-', '.','', ' ', '   ']\n",
    "for c in df.columns:\n",
    "    string_null = np.array([x in a[2:] for x in df[c]])\n",
    "    print(c, df[c].isnull().sum(), string_null.sum()) "
   ]
  },
  {
   "cell_type": "markdown",
   "metadata": {},
   "source": [
    "As seen from the results above, it looks like the BMI column has 201 instances of null values. There are no instances of any other types of null values in any of the other columns. For the 201 instances of null values, we are going to use the KNN imputer to fill in these entries. Below is a histogram of the BMI showing how the BMI is spread out."
   ]
  },
  {
   "cell_type": "code",
   "execution_count": 111,
   "metadata": {},
   "outputs": [
    {
     "data": {
      "text/plain": [
       "<AxesSubplot:>"
      ]
     },
     "execution_count": 111,
     "metadata": {},
     "output_type": "execute_result"
    },
    {
     "data": {
      "image/png": "[encoded data removed]",
      "text/plain": [
       "<Figure size 432x288 with 1 Axes>"
      ]
     },
     "metadata": {
      "needs_background": "light"
     },
     "output_type": "display_data"
    }
   ],
   "source": [
    "df['bmi'].hist()"
   ]
  },
  {
   "cell_type": "code",
   "execution_count": 150,
   "metadata": {},
   "outputs": [],
   "source": [
    "#impute the missing data using KNNImputer\n",
    "from sklearn.impute import KNNImputer\n",
    "imputer = KNNImputer()\n",
    "imputer.fit(df)\n",
    "df = pd.DataFrame(imputer.transform(df), columns = ['Age', 'Hypertension', 'Heart_Disease', 'Ever_Married', 'Residence_Type', 'Avg_Glucose_Lvl', \n",
    "                                                    'BMI', 'Stroke', 'Female','Male'])"
   ]
  },
  {
   "cell_type": "code",
   "execution_count": 151,
   "metadata": {},
   "outputs": [
    {
     "data": {
      "text/plain": [
       "<AxesSubplot:>"
      ]
     },
     "execution_count": 151,
     "metadata": {},
     "output_type": "execute_result"
    },
    {
     "data": {
      "image/png": "[encoded data removed]",
      "text/plain": [
       "<Figure size 432x288 with 1 Axes>"
      ]
     },
     "metadata": {
      "needs_background": "light"
     },
     "output_type": "display_data"
    }
   ],
   "source": [
    "df['BMI'].hist()"
   ]
  },
  {
   "cell_type": "markdown",
   "metadata": {},
   "source": [
    "Looking at the BMI histogram again, it looks the the KNN impute kept the spread of the data mostly the same.\n",
    "Below, we check for any null values again just to make sure we got all of the null values. There are no longer any null values so our data has been cleaned and is good to go."
   ]
  },
  {
   "cell_type": "code",
   "execution_count": 152,
   "metadata": {},
   "outputs": [
    {
     "name": "stdout",
     "output_type": "stream",
     "text": [
      "Age 0 0\n",
      "Hypertension 0 0\n",
      "Heart_Disease 0 0\n",
      "Ever_Married 0 0\n",
      "Residence_Type 0 0\n",
      "Avg_Glucose_Lvl 0 0\n",
      "BMI 0 0\n",
      "Stroke 0 0\n",
      "Female 0 0\n",
      "Male 0 0\n"
     ]
    }
   ],
   "source": [
    "a = [np.nan, None, [], {}, 'NaN', 'Null','NULL','None','NA','?','-', '.','', ' ', '   ']\n",
    "for c in df.columns:\n",
    "    string_null = np.array([x in a[2:] for x in df[c]])\n",
    "    print(c, df[c].isnull().sum(), string_null.sum()) "
   ]
  },
  {
   "cell_type": "markdown",
   "metadata": {},
   "source": [
    "## Exploratory Data Analysis"
   ]
  },
  {
   "cell_type": "markdown",
   "metadata": {},
   "source": [
    "In this exploratory data analysis, we will take a look at a heat map and the proportions of many of the attributes to get a good idea of what our data looks like. In the heat map below, we can see all of the correlations between all of the attributes. First off the Male and Female columns obviously have a -1 correlation since they are always either or. Another notable correlation is age and ever being married. It makes sense since the chances of someone being married at least once is higher when someone is older. Outside of these relationships, most other attributes do not have a notable correlation with other attributes."
   ]
  },
  {
   "cell_type": "code",
   "execution_count": 153,
   "metadata": {},
   "outputs": [
    {
     "data": {
      "text/plain": [
       "Text(0.5, 1.0, 'Correlation Heatmap')"
      ]
     },
     "execution_count": 153,
     "metadata": {},
     "output_type": "execute_result"
    },
    {
     "data": {
      "image/png": "[encoded data removed]",
      "text/plain": [
       "<Figure size 1080x432 with 2 Axes>"
      ]
     },
     "metadata": {
      "needs_background": "light"
     },
     "output_type": "display_data"
    }
   ],
   "source": [
    "import seaborn as sns\n",
    "df_corr = df.corr()\n",
    "plt.figure(figsize = (15,6))\n",
    "heatmap = sns.heatmap(df_corr, annot = True)\n",
    "heatmap.set_title('Correlation Heatmap')"
   ]
  },
  {
   "cell_type": "markdown",
   "metadata": {},
   "source": [
    "KNN does not have feature importance since it just picks whatever is close nearest. While KNN does not have a feature importance function, the Random Forest Classifier does. Here we made a model and explore the feature importances for the dataset. As seen below, the attributes with the largest importance are Age, Average Glucose Levels, and BMI. "
   ]
  },
  {
   "cell_type": "code",
   "execution_count": 154,
   "metadata": {},
   "outputs": [
    {
     "name": "stdout",
     "output_type": "stream",
     "text": [
      "Attribute: Age Score: 0.23972497311915725\n",
      "Attribute: Hypertension Score: 0.02492898521415434\n",
      "Attribute: Heart_Disease Score: 0.01959631706696293\n",
      "Attribute: Ever_Married Score: 0.01821703112208377\n",
      "Attribute: Residence_Type Score: 0.033425814892423446\n",
      "Attribute: Avg_Glucose_Lvl Score: 0.3359063691414142\n",
      "Attribute: BMI Score: 0.2958299921337079\n",
      "Attribute: Female Score: 0.01645357871506728\n",
      "Attribute: Male Score: 0.015916938595028886\n"
     ]
    },
    {
     "data": {
      "image/png": "[encoded data removed]",
      "text/plain": [
       "<Figure size 432x288 with 1 Axes>"
      ]
     },
     "metadata": {
      "needs_background": "light"
     },
     "output_type": "display_data"
    }
   ],
   "source": [
    "from sklearn.ensemble import RandomForestClassifier\n",
    "X = df.drop('Stroke',axis = 1)\n",
    "y = df['Stroke']\n",
    "model = RandomForestClassifier().fit(X,y)\n",
    "importance = model.feature_importances_\n",
    "x_column = X.columns\n",
    "for i in range(len(importance)):\n",
    "    print('Attribute:', x_column[i], 'Score:', importance[i])\n",
    "plt.bar(x_column, importance)\n",
    "plt.xticks(rotation = 90)\n",
    "plt.title(\"Random Forest Feature Importance\")\n",
    "plt.show()"
   ]
  },
  {
   "cell_type": "markdown",
   "metadata": {},
   "source": [
    "Next we take a look at the rate of which strokes occur. Looking at the data, there seems to be only around 5% positive rate for this dataset. In the next section, we will deal with the large imbalance in our dataset in the next section by normalizing the data in a way to overcome the large imbalance of results."
   ]
  },
  {
   "cell_type": "code",
   "execution_count": 155,
   "metadata": {},
   "outputs": [
    {
     "data": {
      "text/plain": [
       "Text(0.5, 1.0, 'Stroke Rate')"
      ]
     },
     "execution_count": 155,
     "metadata": {},
     "output_type": "execute_result"
    },
    {
     "data": {
      "image/png": "[encoded data removed]",
      "text/plain": [
       "<Figure size 432x288 with 1 Axes>"
      ]
     },
     "metadata": {},
     "output_type": "display_data"
    }
   ],
   "source": [
    "s = df['Stroke'].value_counts().tolist()\n",
    "labels = ['No Stroke', 'Stroke']\n",
    "plt.pie(s,autopct = \"%.1f%%\", labels = labels)\n",
    "plt.title(\"Stroke Rate\")"
   ]
  },
  {
   "cell_type": "markdown",
   "metadata": {},
   "source": [
    "## Modeling"
   ]
  },
  {
   "cell_type": "markdown",
   "metadata": {},
   "source": [
    "In this section we will be modeling the dataset. \n",
    "1. We will be addressing how to fix the large imbalance in our results data. \n",
    "2. We will split up our data into training and testing data.\n",
    "3. We create a KNN model from our training data and use it on our test data.\n",
    "4. We create a Random Forest model from our training data and use it on our test data.\n",
    "\n",
    "First off, we split the data into X and y data."
   ]
  },
  {
   "cell_type": "code",
   "execution_count": 156,
   "metadata": {},
   "outputs": [],
   "source": [
    "X = df.drop('Stroke',axis = 1)\n",
    "y = df['Stroke']"
   ]
  },
  {
   "cell_type": "markdown",
   "metadata": {},
   "source": [
    "Now we use SMOTE in order to address the result imbalance between rows that have a positive stroke reading and rows that don't have a positive stroke reading. As you can see, through oversampling we now have the same number of rows with a positive reading compared to a negative reading. This deals with the issue of the large imbalance in our dataset."
   ]
  },
  {
   "cell_type": "code",
   "execution_count": 157,
   "metadata": {},
   "outputs": [
    {
     "name": "stdout",
     "output_type": "stream",
     "text": [
      "Original dataset shape Counter({0.0: 4860, 1.0: 249})\n",
      "Resampled dataset shape Counter({1.0: 4860, 0.0: 4860})\n"
     ]
    }
   ],
   "source": [
    "from imblearn.over_sampling import SMOTE\n",
    "from collections import Counter\n",
    "print('Original dataset shape %s' % Counter(y))\n",
    "sm = SMOTE(random_state = 23)\n",
    "X_res, y_res = sm.fit_resample(X, y)\n",
    "print('Resampled dataset shape %s' % Counter(y_res))"
   ]
  },
  {
   "cell_type": "markdown",
   "metadata": {},
   "source": [
    "Now we split the X and y data using train_test_split so we have both training data and test data. The test data size will be 20% of the whole dataset."
   ]
  },
  {
   "cell_type": "code",
   "execution_count": 158,
   "metadata": {},
   "outputs": [],
   "source": [
    "from sklearn.model_selection import train_test_split\n",
    "X_train, X_test, y_train, y_test = train_test_split(X_res,y_res, test_size = 0.2, random_state = 9)"
   ]
  },
  {
   "cell_type": "code",
   "execution_count": 159,
   "metadata": {},
   "outputs": [
    {
     "name": "stdout",
     "output_type": "stream",
     "text": [
      "X_train: (7776, 9)\n",
      "X_test: (1944, 9)\n",
      "y_train: (7776,)\n",
      "y_test: (1944,)\n"
     ]
    }
   ],
   "source": [
    "print('X_train:', X_train.shape)\n",
    "print('X_test:', X_test.shape)\n",
    "print('y_train:',y_train.shape)\n",
    "print('y_test:', y_test.shape)"
   ]
  },
  {
   "cell_type": "markdown",
   "metadata": {},
   "source": [
    "Our first model uses the K-Nearest Neighbors algorithm. The KNN algorithm will help predict if a patient has a stroke or not depending on the attributes of the training data. The data with the most similar attributes will be taken into account to predict the test data. In this model, we loop from k=1 to k= 9 in order to find the k value that gives the highest score. When running the model against the test data, k = 2 gives use the hightest score when using the test data."
   ]
  },
  {
   "cell_type": "code",
   "execution_count": 160,
   "metadata": {},
   "outputs": [
    {
     "data": {
      "text/plain": [
       "[0.9162, 0.9244, 0.911, 0.911, 0.9007, 0.9079, 0.893, 0.9007, 0.8894]"
      ]
     },
     "execution_count": 160,
     "metadata": {},
     "output_type": "execute_result"
    }
   ],
   "source": [
    "from sklearn.neighbors import KNeighborsClassifier\n",
    "knn_scores = []\n",
    "knn_objects = []\n",
    "for k in range(1,10):\n",
    "    knn = KNeighborsClassifier(n_neighbors = k)\n",
    "    knn.fit(X_train, y_train)\n",
    "\n",
    "    knn_scores.append(round(knn.score(X_test, y_test),4))\n",
    "    knn_objects.append(knn)\n",
    "knn_scores"
   ]
  },
  {
   "cell_type": "markdown",
   "metadata": {},
   "source": [
    "Our second model uses the Random Forest algorithm. The Random Forest algorithm generates a number of estimators to try to determine the stroke outcome based on the decision of a majority prediction from the multitude of decision trees. In this model we also use GridSearchCV to tune the hyperparameters to find the highest score."
   ]
  },
  {
   "cell_type": "code",
   "execution_count": 161,
   "metadata": {},
   "outputs": [
    {
     "data": {
      "text/plain": [
       "GridSearchCV(estimator=RandomForestClassifier(),\n",
       "             param_grid={'criterion': ['gini', 'entropy'],\n",
       "                         'max_depth': [2, 4, 8, 16, 32, 64],\n",
       "                         'n_estimators': [25, 50, 100, 200]})"
      ]
     },
     "execution_count": 161,
     "metadata": {},
     "output_type": "execute_result"
    }
   ],
   "source": [
    "\n",
    "from sklearn.model_selection import GridSearchCV\n",
    "\n",
    "params = {\n",
    "    'n_estimators': [25,50,100,200],\n",
    "    'max_depth':[2,4,8,16,32,64],\n",
    "    'criterion':['gini','entropy']\n",
    "}\n",
    "\n",
    "cv_rf = GridSearchCV(estimator = RandomForestClassifier(), param_grid = params)\n",
    "cv_rf.fit(X_train, y_train)"
   ]
  },
  {
   "cell_type": "markdown",
   "metadata": {},
   "source": [
    "After running the model the best parameters is 200 estimators with a max depth of 64 using entropy."
   ]
  },
  {
   "cell_type": "code",
   "execution_count": 162,
   "metadata": {},
   "outputs": [
    {
     "name": "stdout",
     "output_type": "stream",
     "text": [
      "{'criterion': 'entropy', 'max_depth': 32, 'n_estimators': 200}\n",
      "0.964634523347027\n"
     ]
    }
   ],
   "source": [
    "print(cv_rf.best_params_)\n",
    "print(cv_rf.best_score_)"
   ]
  },
  {
   "cell_type": "markdown",
   "metadata": {},
   "source": [
    "## Results and Analysis"
   ]
  },
  {
   "cell_type": "markdown",
   "metadata": {},
   "source": [
    "### K-Nearest Neighbor Model"
   ]
  },
  {
   "cell_type": "markdown",
   "metadata": {},
   "source": [
    "In the KNN model, the k value that produced the best score was k=2 with a score of about 0.92. Below is graph of the scores depending on the k value. For the most part, it looks like as k increases, the accuracy score decreases."
   ]
  },
  {
   "cell_type": "code",
   "execution_count": 130,
   "metadata": {},
   "outputs": [
    {
     "data": {
      "image/png": "[encoded data removed]",
      "text/plain": [
       "<Figure size 720x432 with 1 Axes>"
      ]
     },
     "metadata": {
      "needs_background": "light"
     },
     "output_type": "display_data"
    }
   ],
   "source": [
    "allks = range(1,10)\n",
    "fig, ax = plt.subplots(nrows=1,ncols=1,figsize=(10,6))\n",
    "ax.plot(allks, knn_scores, marker=\"o\", color=\"steelblue\", lw=3, label=\"unweighted\")\n",
    "ax.set_xlabel(\"number neighbors\", fontsize=16)\n",
    "ax.set_ylabel(\"accuracy\", fontsize=16)\n",
    "plt.xticks(range(1,10,1))\n",
    "ax.grid(alpha=0.25)"
   ]
  },
  {
   "cell_type": "markdown",
   "metadata": {},
   "source": [
    "Next we will look at the confusion matrix for our KNN model. For our KNN model, there were a total of 1944 data points. Of those data points, 824 were correct predicted as no stroke and 957 that were correctly predicted to be a stroke. Of the 164 that were not correctly predicted, 141 were a false positive and 22 were a false negative. In the case of detecting strokes, a false positive is seen as a more favorable error than a false negative if there were the same number of total errors in both models. "
   ]
  },
  {
   "cell_type": "code",
   "execution_count": 67,
   "metadata": {},
   "outputs": [],
   "source": [
    "from sklearn.metrics import confusion_matrix, ConfusionMatrixDisplay"
   ]
  },
  {
   "cell_type": "code",
   "execution_count": 132,
   "metadata": {},
   "outputs": [
    {
     "data": {
      "text/plain": [
       "<sklearn.metrics._plot.confusion_matrix.ConfusionMatrixDisplay at 0x1e88b1c8f60>"
      ]
     },
     "execution_count": 132,
     "metadata": {},
     "output_type": "execute_result"
    },
    {
     "data": {
      "image/png": "[encoded data removed]",
      "text/plain": [
       "<Figure size 432x288 with 2 Axes>"
      ]
     },
     "metadata": {
      "needs_background": "light"
     },
     "output_type": "display_data"
    }
   ],
   "source": [
    "knn_y_pred = knn_objects[0].predict(X_test)\n",
    "knn_cm = confusion_matrix(y_test, knn_y_pred)\n",
    "knn_cmplot = ConfusionMatrixDisplay(confusion_matrix = knn_cm, display_labels = knn_objects[0].classes_)\n",
    "knn_cmplot.plot()"
   ]
  },
  {
   "cell_type": "markdown",
   "metadata": {},
   "source": [
    "### Random Forest Model"
   ]
  },
  {
   "cell_type": "markdown",
   "metadata": {},
   "source": [
    "In the Random Forest model, the hyperparameters that produced the highest score has 100 estimators, a max depth of 32 and used entropy over gini. The accuracy for the model against the test data was 0.96. For the confusion matrix, of the 1944 data points, 954 were correctly predicted as no stroke and 920 were correctly predicted as a stroke. Of the 70 that were not correctly predicted, 11 were a false positive and 59 were a false negative. Unlike the KNN model, the Random Forest model produces more false negatives than false positives compared to the KNN model. However, the Random Forest model produces fewer total errors than the KNN model."
   ]
  },
  {
   "cell_type": "code",
   "execution_count": 133,
   "metadata": {},
   "outputs": [
    {
     "data": {
      "text/plain": [
       "<sklearn.metrics._plot.confusion_matrix.ConfusionMatrixDisplay at 0x1e88b288fd0>"
      ]
     },
     "execution_count": 133,
     "metadata": {},
     "output_type": "execute_result"
    },
    {
     "data": {
      "image/png": "[encoded data removed]",
      "text/plain": [
       "<Figure size 432x288 with 2 Axes>"
      ]
     },
     "metadata": {
      "needs_background": "light"
     },
     "output_type": "display_data"
    }
   ],
   "source": [
    "rf_y_pred = cv_rf.predict(X_test)\n",
    "rf_cm = confusion_matrix(y_test, rf_y_pred)\n",
    "rf_cmplot = ConfusionMatrixDisplay(confusion_matrix = rf_cm, display_labels = cv_rf.classes_)\n",
    "rf_cmplot.plot()"
   ]
  },
  {
   "cell_type": "markdown",
   "metadata": {},
   "source": [
    "### Combined ROC"
   ]
  },
  {
   "cell_type": "markdown",
   "metadata": {},
   "source": [
    "Since there is a notable difference in the amount of type one errors and type two errors shown in the confustion matricies above, here is an ROC curve to show the differences between the two models. As seen in the graph, the Random Forest model has a larger area under the curve which means it performed better in predicting strokes."
   ]
  },
  {
   "cell_type": "code",
   "execution_count": 135,
   "metadata": {},
   "outputs": [
    {
     "data": {
      "text/plain": [
       "<matplotlib.legend.Legend at 0x1e88b617c88>"
      ]
     },
     "execution_count": 135,
     "metadata": {},
     "output_type": "execute_result"
    },
    {
     "data": {
      "image/png": "[encoded data removed]",
      "text/plain": [
       "<Figure size 432x288 with 1 Axes>"
      ]
     },
     "metadata": {
      "needs_background": "light"
     },
     "output_type": "display_data"
    }
   ],
   "source": [
    "from sklearn.metrics import roc_curve, roc_auc_score\n",
    "\n",
    "fpr,tpr,_ = roc_curve(y_test, knn_y_pred)\n",
    "auc = round(roc_auc_score(y_test, knn_y_pred),3)\n",
    "plt.plot(fpr, tpr, label = \"KNN, ACU = \" + str(auc))\n",
    "\n",
    "fpr,tpr,_ = roc_curve(y_test, rf_y_pred)\n",
    "auc = round(roc_auc_score(y_test, rf_y_pred),3)\n",
    "plt.plot(fpr, tpr, label = \"Random Forest, AUC = \" + str(auc))\n",
    "plt.title(\"ROC Chart\")\n",
    "plt.legend()"
   ]
  },
  {
   "cell_type": "markdown",
   "metadata": {},
   "source": [
    "## Conclusion"
   ]
  },
  {
   "cell_type": "markdown",
   "metadata": {},
   "source": [
    "After going through this this final project, I have gained the experience and confidence to do a full supervised machine learning analysis starting from searching for a dataset to making conclusions about that dataset. In a non-exhaustive list of techniques learned and used for this project, I:\n",
    "- searched for and determined an appropriate dataset for supervised learning models\n",
    "- developed a goal for the project\n",
    "- cleaned the data through dropping unneeded rows and columns\n",
    "- imputed the data to fill in empty rows\n",
    "- explored correlation and attribute importance\n",
    "- used oversampling to address dataset imbalance\n",
    "- ran both a KNN and Random Forest Model on the dataset\n",
    "- analyzed the results of the models with confusion matricies and ROC curves\n",
    "\n",
    "As for any aspects that did not work out, I did not keep all of the columns in the dataset. I did not want to impute the smoking status in the original dataset since so much of the data was unknown. I suspect that the smoking status could have had a notable attribute significance if I made it work out.\n",
    "Possible improvements to the project could include a different type of dealing with result imbalance. Instead of using oversampling, I could have also tried out undersampling before fitting it into the KNN and Random Forest model. Another possible improvement to the project would be to include more supervised learning models. Adding a section for a Logistic Regression model and a Support Vector Machine model would give us more insight on which kind of supervised machine learning model would work best."
   ]
  },
  {
   "cell_type": "code",
   "execution_count": null,
   "metadata": {},
   "outputs": [],
   "source": []
  }
 ],
 "metadata": {
  "kernelspec": {
   "display_name": "Python 3 (ipykernel)",
   "language": "python",
   "name": "python3"
  },
  "language_info": {
   "codemirror_mode": {
    "name": "ipython",
    "version": 3
   },
   "file_extension": ".py",
   "mimetype": "text/x-python",
   "name": "python",
   "nbconvert_exporter": "python",
   "pygments_lexer": "ipython3",
   "version": "3.7.3"
  }
 },
 "nbformat": 4,
 "nbformat_minor": 4
}
